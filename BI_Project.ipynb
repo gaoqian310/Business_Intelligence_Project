{
 "cells": [
  {
   "cell_type": "code",
   "execution_count": 227,
   "id": "37e53bef",
   "metadata": {},
   "outputs": [
    {
     "name": "stdout",
     "output_type": "stream",
     "text": [
      "['Task 1', 'Task 1_cleaned', 'Task 2', 'Task 2_cleaned', 'Task 3', 'Task 3_cleaned']\n"
     ]
    }
   ],
   "source": [
    "import pandas as pd \n",
    "import numpy as np\n",
    "import statistics as st\n",
    "import matplotlib.pyplot as plt\n",
    "import seaborn as sns\n",
    "from scipy.stats import skew\n",
    "\n",
    "file = \"business-intelligence-project.xlsx\"\n",
    "data = pd.ExcelFile(file)\n",
    "print(data.sheet_names) #this returns the all the sheets in the excel file"
   ]
  },
  {
   "cell_type": "markdown",
   "id": "42b86373",
   "metadata": {},
   "source": [
    "# Task 1"
   ]
  },
  {
   "cell_type": "code",
   "execution_count": 228,
   "id": "f33bc4f3",
   "metadata": {},
   "outputs": [
    {
     "name": "stdout",
     "output_type": "stream",
     "text": [
      "<class 'pandas.core.frame.DataFrame'>\n",
      "RangeIndex: 60 entries, 0 to 59\n",
      "Data columns (total 2 columns):\n",
      " #   Column       Non-Null Count  Dtype  \n",
      "---  ------       --------------  -----  \n",
      " 0   Employee ID  60 non-null     int64  \n",
      " 1   Sales        60 non-null     float64\n",
      "dtypes: float64(1), int64(1)\n",
      "memory usage: 1.1 KB\n"
     ]
    }
   ],
   "source": [
    "df1 = data.parse(\"Task 1_cleaned\")\n",
    "df1.info()"
   ]
  },
  {
   "cell_type": "code",
   "execution_count": 229,
   "id": "5ba29699",
   "metadata": {
    "scrolled": true
   },
   "outputs": [
    {
     "data": {
      "text/html": [
       "<div>\n",
       "<style scoped>\n",
       "    .dataframe tbody tr th:only-of-type {\n",
       "        vertical-align: middle;\n",
       "    }\n",
       "\n",
       "    .dataframe tbody tr th {\n",
       "        vertical-align: top;\n",
       "    }\n",
       "\n",
       "    .dataframe thead th {\n",
       "        text-align: right;\n",
       "    }\n",
       "</style>\n",
       "<table border=\"1\" class=\"dataframe\">\n",
       "  <thead>\n",
       "    <tr style=\"text-align: right;\">\n",
       "      <th></th>\n",
       "      <th>Employee ID</th>\n",
       "      <th>Sales</th>\n",
       "    </tr>\n",
       "  </thead>\n",
       "  <tbody>\n",
       "    <tr>\n",
       "      <th>0</th>\n",
       "      <td>1001</td>\n",
       "      <td>482.660296</td>\n",
       "    </tr>\n",
       "    <tr>\n",
       "      <th>1</th>\n",
       "      <td>1002</td>\n",
       "      <td>3353.827431</td>\n",
       "    </tr>\n",
       "    <tr>\n",
       "      <th>2</th>\n",
       "      <td>1003</td>\n",
       "      <td>8716.268720</td>\n",
       "    </tr>\n",
       "    <tr>\n",
       "      <th>3</th>\n",
       "      <td>1004</td>\n",
       "      <td>5268.511955</td>\n",
       "    </tr>\n",
       "    <tr>\n",
       "      <th>4</th>\n",
       "      <td>1005</td>\n",
       "      <td>5272.372750</td>\n",
       "    </tr>\n",
       "    <tr>\n",
       "      <th>5</th>\n",
       "      <td>1006</td>\n",
       "      <td>4521.799891</td>\n",
       "    </tr>\n",
       "    <tr>\n",
       "      <th>6</th>\n",
       "      <td>1007</td>\n",
       "      <td>339.079381</td>\n",
       "    </tr>\n",
       "    <tr>\n",
       "      <th>7</th>\n",
       "      <td>1008</td>\n",
       "      <td>2498.285741</td>\n",
       "    </tr>\n",
       "    <tr>\n",
       "      <th>8</th>\n",
       "      <td>1009</td>\n",
       "      <td>4300.096754</td>\n",
       "    </tr>\n",
       "    <tr>\n",
       "      <th>9</th>\n",
       "      <td>1010</td>\n",
       "      <td>3531.549682</td>\n",
       "    </tr>\n",
       "  </tbody>\n",
       "</table>\n",
       "</div>"
      ],
      "text/plain": [
       "   Employee ID        Sales\n",
       "0         1001   482.660296\n",
       "1         1002  3353.827431\n",
       "2         1003  8716.268720\n",
       "3         1004  5268.511955\n",
       "4         1005  5272.372750\n",
       "5         1006  4521.799891\n",
       "6         1007   339.079381\n",
       "7         1008  2498.285741\n",
       "8         1009  4300.096754\n",
       "9         1010  3531.549682"
      ]
     },
     "execution_count": 229,
     "metadata": {},
     "output_type": "execute_result"
    }
   ],
   "source": [
    "df1.head(10)"
   ]
  },
  {
   "cell_type": "code",
   "execution_count": 230,
   "id": "4757cba2",
   "metadata": {},
   "outputs": [
    {
     "name": "stdout",
     "output_type": "stream",
     "text": [
      "Mean is : 4444.581353167947\n",
      "Median is : 4290.390277792758\n",
      "Mode is : 482.6602960145865\n",
      "Maximum Value is : 9676.027108133301\n",
      "Minimum Value is : 338.6298319322356\n",
      "Standard Deviation is : 2689.999286261166\n",
      "Skewness is : 0.17014577860608798\n"
     ]
    }
   ],
   "source": [
    "data_mean = st.mean(df1.Sales)\n",
    "data_median = st.median(df1.Sales)\n",
    "data_mode = st.mode(df1.Sales)\n",
    "data_max = max(df1.Sales)\n",
    "data_min = min(df1.Sales)\n",
    "data_stdev = st.stdev(df1.Sales)\n",
    "data_skew = skew(df1.Sales)\n",
    "\n",
    "print (\"Mean is :\", data_mean)\n",
    "print (\"Median is :\", data_median)\n",
    "print (\"Mode is :\", data_mode)\n",
    "print (\"Maximum Value is :\", data_max)\n",
    "print (\"Minimum Value is :\", data_min)\n",
    "print (\"Standard Deviation is :\", data_stdev)\n",
    "print (\"Skewness is :\", data_skew)"
   ]
  },
  {
   "cell_type": "markdown",
   "id": "ce6f6520",
   "metadata": {},
   "source": [
    "## Virtrualizaiton the distribution of the sales data"
   ]
  },
  {
   "cell_type": "code",
   "execution_count": 231,
   "id": "2d24a310",
   "metadata": {},
   "outputs": [
    {
     "data": {
      "image/png": "[encoded data removed]",
      "text/plain": [
       "<Figure size 1080x144 with 1 Axes>"
      ]
     },
     "metadata": {},
     "output_type": "display_data"
    }
   ],
   "source": [
    "sns.set_theme(style=\"whitegrid\")\n",
    "plt.figure (figsize=(15,2))\n",
    "\n",
    "ax = sns.boxplot(orient = \"h\", data=df1.Sales)\n",
    "ax = sns.swarmplot(orient = \"h\",data=df1.Sales, color=\".25\")"
   ]
  },
  {
   "cell_type": "code",
   "execution_count": 232,
   "id": "8da3183f",
   "metadata": {},
   "outputs": [
    {
     "data": {
      "image/png": "[encoded data removed]",
      "text/plain": [
       "<Figure size 1080x432 with 1 Axes>"
      ]
     },
     "metadata": {},
     "output_type": "display_data"
    }
   ],
   "source": [
    "plt.figure (figsize=(15,6))\n",
    "sns.kdeplot(data=df1.Sales)\n",
    "plt.show()"
   ]
  },
  {
   "cell_type": "markdown",
   "id": "02974763",
   "metadata": {},
   "source": [
    "#### Conclusion\n",
    "From the calculations and two charts above, we can see the spread from 338.6 to 9676\n",
    "\n",
    "The mean is 4444.58\n",
    "\n",
    "skewness is 0.17\n"
   ]
  },
  {
   "cell_type": "markdown",
   "id": "4b9f080a",
   "metadata": {},
   "source": [
    "# Task 2"
   ]
  },
  {
   "cell_type": "code",
   "execution_count": 233,
   "id": "0ad87b2c",
   "metadata": {},
   "outputs": [
    {
     "name": "stdout",
     "output_type": "stream",
     "text": [
      "<class 'pandas.core.frame.DataFrame'>\n",
      "RangeIndex: 30 entries, 0 to 29\n",
      "Data columns (total 3 columns):\n",
      " #   Column                               Non-Null Count  Dtype  \n",
      "---  ------                               --------------  -----  \n",
      " 0   Store Name                           30 non-null     object \n",
      " 1   Number of Customer Made a Purchased  30 non-null     float64\n",
      " 2   Total Number of Customer Visited     30 non-null     float64\n",
      "dtypes: float64(2), object(1)\n",
      "memory usage: 848.0+ bytes\n"
     ]
    }
   ],
   "source": [
    "df2 = data.parse(\"Task 2_cleaned\")\n",
    "df2.info()"
   ]
  },
  {
   "cell_type": "code",
   "execution_count": 234,
   "id": "984a0bb6",
   "metadata": {
    "scrolled": true
   },
   "outputs": [
    {
     "data": {
      "text/html": [
       "<div>\n",
       "<style scoped>\n",
       "    .dataframe tbody tr th:only-of-type {\n",
       "        vertical-align: middle;\n",
       "    }\n",
       "\n",
       "    .dataframe tbody tr th {\n",
       "        vertical-align: top;\n",
       "    }\n",
       "\n",
       "    .dataframe thead th {\n",
       "        text-align: right;\n",
       "    }\n",
       "</style>\n",
       "<table border=\"1\" class=\"dataframe\">\n",
       "  <thead>\n",
       "    <tr style=\"text-align: right;\">\n",
       "      <th></th>\n",
       "      <th>Store Name</th>\n",
       "      <th>Number of Customer Made a Purchased</th>\n",
       "      <th>Total Number of Customer Visited</th>\n",
       "    </tr>\n",
       "  </thead>\n",
       "  <tbody>\n",
       "    <tr>\n",
       "      <th>0</th>\n",
       "      <td>Store 1</td>\n",
       "      <td>800.000000</td>\n",
       "      <td>7460.773582</td>\n",
       "    </tr>\n",
       "    <tr>\n",
       "      <th>1</th>\n",
       "      <td>Store 2</td>\n",
       "      <td>650.000000</td>\n",
       "      <td>1951.818302</td>\n",
       "    </tr>\n",
       "    <tr>\n",
       "      <th>2</th>\n",
       "      <td>Store 3</td>\n",
       "      <td>544.000000</td>\n",
       "      <td>4377.379323</td>\n",
       "    </tr>\n",
       "    <tr>\n",
       "      <th>3</th>\n",
       "      <td>Store 4</td>\n",
       "      <td>825.194161</td>\n",
       "      <td>5501.294408</td>\n",
       "    </tr>\n",
       "    <tr>\n",
       "      <th>4</th>\n",
       "      <td>Store 5</td>\n",
       "      <td>157.186864</td>\n",
       "      <td>1209.129724</td>\n",
       "    </tr>\n",
       "    <tr>\n",
       "      <th>5</th>\n",
       "      <td>Store 6</td>\n",
       "      <td>978.380425</td>\n",
       "      <td>5755.178968</td>\n",
       "    </tr>\n",
       "    <tr>\n",
       "      <th>6</th>\n",
       "      <td>Store 7</td>\n",
       "      <td>575.353047</td>\n",
       "      <td>3196.405816</td>\n",
       "    </tr>\n",
       "    <tr>\n",
       "      <th>7</th>\n",
       "      <td>Store 8</td>\n",
       "      <td>385.632772</td>\n",
       "      <td>1542.531087</td>\n",
       "    </tr>\n",
       "    <tr>\n",
       "      <th>8</th>\n",
       "      <td>Store 9</td>\n",
       "      <td>720.843907</td>\n",
       "      <td>6553.126431</td>\n",
       "    </tr>\n",
       "    <tr>\n",
       "      <th>9</th>\n",
       "      <td>Store 10</td>\n",
       "      <td>688.664979</td>\n",
       "      <td>5738.874824</td>\n",
       "    </tr>\n",
       "  </tbody>\n",
       "</table>\n",
       "</div>"
      ],
      "text/plain": [
       "  Store Name  Number of Customer Made a Purchased  \\\n",
       "0    Store 1                           800.000000   \n",
       "1    Store 2                           650.000000   \n",
       "2    Store 3                           544.000000   \n",
       "3    Store 4                           825.194161   \n",
       "4    Store 5                           157.186864   \n",
       "5    Store 6                           978.380425   \n",
       "6    Store 7                           575.353047   \n",
       "7    Store 8                           385.632772   \n",
       "8    Store 9                           720.843907   \n",
       "9   Store 10                           688.664979   \n",
       "\n",
       "   Total Number of Customer Visited  \n",
       "0                       7460.773582  \n",
       "1                       1951.818302  \n",
       "2                       4377.379323  \n",
       "3                       5501.294408  \n",
       "4                       1209.129724  \n",
       "5                       5755.178968  \n",
       "6                       3196.405816  \n",
       "7                       1542.531087  \n",
       "8                       6553.126431  \n",
       "9                       5738.874824  "
      ]
     },
     "execution_count": 234,
     "metadata": {},
     "output_type": "execute_result"
    }
   ],
   "source": [
    "df2.head(10)"
   ]
  },
  {
   "cell_type": "code",
   "execution_count": 235,
   "id": "bd5e4be8",
   "metadata": {},
   "outputs": [
    {
     "data": {
      "text/html": [
       "<div>\n",
       "<style scoped>\n",
       "    .dataframe tbody tr th:only-of-type {\n",
       "        vertical-align: middle;\n",
       "    }\n",
       "\n",
       "    .dataframe tbody tr th {\n",
       "        vertical-align: top;\n",
       "    }\n",
       "\n",
       "    .dataframe thead th {\n",
       "        text-align: right;\n",
       "    }\n",
       "</style>\n",
       "<table border=\"1\" class=\"dataframe\">\n",
       "  <thead>\n",
       "    <tr style=\"text-align: right;\">\n",
       "      <th></th>\n",
       "      <th>Store Name</th>\n",
       "      <th>Number of Customer Made a Purchased</th>\n",
       "      <th>Total Number of Customer Visited</th>\n",
       "      <th>Customer Conversion Rate</th>\n",
       "    </tr>\n",
       "  </thead>\n",
       "  <tbody>\n",
       "    <tr>\n",
       "      <th>0</th>\n",
       "      <td>Store 1</td>\n",
       "      <td>800.000000</td>\n",
       "      <td>7460.773582</td>\n",
       "      <td>0.107227</td>\n",
       "    </tr>\n",
       "    <tr>\n",
       "      <th>1</th>\n",
       "      <td>Store 2</td>\n",
       "      <td>650.000000</td>\n",
       "      <td>1951.818302</td>\n",
       "      <td>0.333023</td>\n",
       "    </tr>\n",
       "    <tr>\n",
       "      <th>2</th>\n",
       "      <td>Store 3</td>\n",
       "      <td>544.000000</td>\n",
       "      <td>4377.379323</td>\n",
       "      <td>0.124275</td>\n",
       "    </tr>\n",
       "    <tr>\n",
       "      <th>3</th>\n",
       "      <td>Store 4</td>\n",
       "      <td>825.194161</td>\n",
       "      <td>5501.294408</td>\n",
       "      <td>0.150000</td>\n",
       "    </tr>\n",
       "    <tr>\n",
       "      <th>4</th>\n",
       "      <td>Store 5</td>\n",
       "      <td>157.186864</td>\n",
       "      <td>1209.129724</td>\n",
       "      <td>0.130000</td>\n",
       "    </tr>\n",
       "  </tbody>\n",
       "</table>\n",
       "</div>"
      ],
      "text/plain": [
       "  Store Name  Number of Customer Made a Purchased  \\\n",
       "0    Store 1                           800.000000   \n",
       "1    Store 2                           650.000000   \n",
       "2    Store 3                           544.000000   \n",
       "3    Store 4                           825.194161   \n",
       "4    Store 5                           157.186864   \n",
       "\n",
       "   Total Number of Customer Visited  Customer Conversion Rate  \n",
       "0                       7460.773582                  0.107227  \n",
       "1                       1951.818302                  0.333023  \n",
       "2                       4377.379323                  0.124275  \n",
       "3                       5501.294408                  0.150000  \n",
       "4                       1209.129724                  0.130000  "
      ]
     },
     "execution_count": 235,
     "metadata": {},
     "output_type": "execute_result"
    }
   ],
   "source": [
    "df2[\"Customer Conversion Rate\"] = df2[\"Number of Customer Made a Purchased\"]/df2[\"Total Number of Customer Visited\"]\n",
    "df2.head()"
   ]
  },
  {
   "cell_type": "code",
   "execution_count": 236,
   "id": "d6b8a927",
   "metadata": {},
   "outputs": [
    {
     "name": "stdout",
     "output_type": "stream",
     "text": [
      "Mean is : 0.16816762024029097\n",
      "Median is : 0.1275\n",
      "Mode is : 0.18\n",
      "Range(max-min) is : 0.2867797876971312\n",
      "Standard Deviation is : 0.08102405976755989\n"
     ]
    }
   ],
   "source": [
    "data_mean = st.mean(df2[\"Customer Conversion Rate\"])\n",
    "data_median = st.median(df2[\"Customer Conversion Rate\"])\n",
    "data_mode = st.mode(df2[\"Customer Conversion Rate\"])\n",
    "data_range = max(df2[\"Customer Conversion Rate\"])-min(df[\"Customer Conversion Rate\"])\n",
    "data_stdev = st.stdev(df2[\"Customer Conversion Rate\"])\n",
    "\n",
    "print (\"Mean is :\", data_mean)\n",
    "print (\"Median is :\", data_median)\n",
    "print (\"Mode is :\", data_mode)\n",
    "print (\"Range(max-min) is :\", data_range)\n",
    "print (\"Standard Deviation is :\", data_stdev)"
   ]
  },
  {
   "cell_type": "code",
   "execution_count": 237,
   "id": "3130926c",
   "metadata": {},
   "outputs": [
    {
     "data": {
      "image/png": "[encoded data removed]",
      "text/plain": [
       "<Figure size 1080x144 with 1 Axes>"
      ]
     },
     "metadata": {},
     "output_type": "display_data"
    }
   ],
   "source": [
    "sns.set_theme(style=\"whitegrid\")\n",
    "plt.figure (figsize=(15,2))\n",
    "\n",
    "ax = sns.boxplot(orient = \"h\", data=df2[\"Customer Conversion Rate\"])\n",
    "ax = sns.swarmplot(orient = \"h\",data=df2[\"Customer Conversion Rate\"], color=\".2\")"
   ]
  },
  {
   "cell_type": "markdown",
   "id": "bae48089",
   "metadata": {},
   "source": [
    "#### Conclusion\n",
    "From the plot above, we can tell that the company is not proformce very well. \n",
    "\n",
    "The median is only 0.1275 which indicating that among all the stores, more than half of the store are below national benchmark."
   ]
  },
  {
   "cell_type": "markdown",
   "id": "03f1c6b7",
   "metadata": {},
   "source": [
    "## Task 3"
   ]
  },
  {
   "cell_type": "code",
   "execution_count": 238,
   "id": "a3783eef",
   "metadata": {},
   "outputs": [
    {
     "name": "stdout",
     "output_type": "stream",
     "text": [
      "<class 'pandas.core.frame.DataFrame'>\n",
      "RangeIndex: 50 entries, 0 to 49\n",
      "Data columns (total 3 columns):\n",
      " #   Column               Non-Null Count  Dtype  \n",
      "---  ------               --------------  -----  \n",
      " 0   ID                   50 non-null     int64  \n",
      " 1   Ice Crem Sale (X)    50 non-null     int64  \n",
      " 2   Sunglasses Sold (Y)  50 non-null     float64\n",
      "dtypes: float64(1), int64(2)\n",
      "memory usage: 1.3 KB\n"
     ]
    }
   ],
   "source": [
    "df3 = data.parse(\"Task 3_cleaned\")\n",
    "df3.info()"
   ]
  },
  {
   "cell_type": "code",
   "execution_count": 239,
   "id": "950f381d",
   "metadata": {},
   "outputs": [
    {
     "data": {
      "text/html": [
       "<div>\n",
       "<style scoped>\n",
       "    .dataframe tbody tr th:only-of-type {\n",
       "        vertical-align: middle;\n",
       "    }\n",
       "\n",
       "    .dataframe tbody tr th {\n",
       "        vertical-align: top;\n",
       "    }\n",
       "\n",
       "    .dataframe thead th {\n",
       "        text-align: right;\n",
       "    }\n",
       "</style>\n",
       "<table border=\"1\" class=\"dataframe\">\n",
       "  <thead>\n",
       "    <tr style=\"text-align: right;\">\n",
       "      <th></th>\n",
       "      <th>ID</th>\n",
       "      <th>Ice Crem Sale (X)</th>\n",
       "      <th>Sunglasses Sold (Y)</th>\n",
       "    </tr>\n",
       "  </thead>\n",
       "  <tbody>\n",
       "    <tr>\n",
       "      <th>0</th>\n",
       "      <td>1</td>\n",
       "      <td>52</td>\n",
       "      <td>36.40</td>\n",
       "    </tr>\n",
       "    <tr>\n",
       "      <th>1</th>\n",
       "      <td>2</td>\n",
       "      <td>53</td>\n",
       "      <td>47.70</td>\n",
       "    </tr>\n",
       "    <tr>\n",
       "      <th>2</th>\n",
       "      <td>3</td>\n",
       "      <td>54</td>\n",
       "      <td>48.60</td>\n",
       "    </tr>\n",
       "    <tr>\n",
       "      <th>3</th>\n",
       "      <td>4</td>\n",
       "      <td>55</td>\n",
       "      <td>49.50</td>\n",
       "    </tr>\n",
       "    <tr>\n",
       "      <th>4</th>\n",
       "      <td>5</td>\n",
       "      <td>56</td>\n",
       "      <td>50.40</td>\n",
       "    </tr>\n",
       "    <tr>\n",
       "      <th>5</th>\n",
       "      <td>6</td>\n",
       "      <td>57</td>\n",
       "      <td>48.45</td>\n",
       "    </tr>\n",
       "    <tr>\n",
       "      <th>6</th>\n",
       "      <td>7</td>\n",
       "      <td>57</td>\n",
       "      <td>48.45</td>\n",
       "    </tr>\n",
       "    <tr>\n",
       "      <th>7</th>\n",
       "      <td>8</td>\n",
       "      <td>59</td>\n",
       "      <td>50.15</td>\n",
       "    </tr>\n",
       "    <tr>\n",
       "      <th>8</th>\n",
       "      <td>9</td>\n",
       "      <td>60</td>\n",
       "      <td>54.00</td>\n",
       "    </tr>\n",
       "    <tr>\n",
       "      <th>9</th>\n",
       "      <td>10</td>\n",
       "      <td>60</td>\n",
       "      <td>54.00</td>\n",
       "    </tr>\n",
       "  </tbody>\n",
       "</table>\n",
       "</div>"
      ],
      "text/plain": [
       "   ID  Ice Crem Sale (X)  Sunglasses Sold (Y)\n",
       "0   1                 52                36.40\n",
       "1   2                 53                47.70\n",
       "2   3                 54                48.60\n",
       "3   4                 55                49.50\n",
       "4   5                 56                50.40\n",
       "5   6                 57                48.45\n",
       "6   7                 57                48.45\n",
       "7   8                 59                50.15\n",
       "8   9                 60                54.00\n",
       "9  10                 60                54.00"
      ]
     },
     "execution_count": 239,
     "metadata": {},
     "output_type": "execute_result"
    }
   ],
   "source": [
    "df3.head(10)"
   ]
  },
  {
   "cell_type": "code",
   "execution_count": 240,
   "id": "de6865b0",
   "metadata": {},
   "outputs": [
    {
     "data": {
      "image/png": "[encoded data removed]",
      "text/plain": [
       "<Figure size 360x360 with 1 Axes>"
      ]
     },
     "metadata": {},
     "output_type": "display_data"
    }
   ],
   "source": [
    "x = df3[\"Ice Crem Sale (X)\"]\n",
    "y = df3[\"Sunglasses Sold (Y)\"]\n",
    "\n",
    "sns.lmplot(x=\"Ice Crem Sale (X)\", y=\"Sunglasses Sold (Y)\", data=df3)\n",
    "plt.show()"
   ]
  },
  {
   "cell_type": "markdown",
   "id": "d22d2977",
   "metadata": {},
   "source": [
    "#### Method 1"
   ]
  },
  {
   "cell_type": "code",
   "execution_count": 241,
   "id": "47e018f6",
   "metadata": {
    "scrolled": true
   },
   "outputs": [
    {
     "data": {
      "text/plain": [
       "array([[1.        , 0.97033989],\n",
       "       [0.97033989, 1.        ]])"
      ]
     },
     "execution_count": 241,
     "metadata": {},
     "output_type": "execute_result"
    }
   ],
   "source": [
    "np.corrcoef(df3[\"Ice Crem Sale (X)\"], df3[\"Sunglasses Sold (Y)\"])"
   ]
  },
  {
   "cell_type": "markdown",
   "id": "32a91a85",
   "metadata": {},
   "source": [
    "#### Method 2"
   ]
  },
  {
   "cell_type": "code",
   "execution_count": 242,
   "id": "2a49652a",
   "metadata": {},
   "outputs": [
    {
     "data": {
      "text/plain": [
       "0.9703398902949367"
      ]
     },
     "execution_count": 242,
     "metadata": {},
     "output_type": "execute_result"
    }
   ],
   "source": [
    "df3[\"Ice Crem Sale (X)\"].corr(df3[\"Sunglasses Sold (Y)\"])"
   ]
  },
  {
   "cell_type": "code",
   "execution_count": 243,
   "id": "99d7ff46",
   "metadata": {},
   "outputs": [
    {
     "data": {
      "text/plain": [
       "0.9703398902949368"
      ]
     },
     "execution_count": 243,
     "metadata": {},
     "output_type": "execute_result"
    }
   ],
   "source": [
    "df3[\"Sunglasses Sold (Y)\"].corr(df3[\"Ice Crem Sale (X)\"])"
   ]
  },
  {
   "cell_type": "markdown",
   "id": "faa44ac7",
   "metadata": {},
   "source": [
    "#### Method 3"
   ]
  },
  {
   "cell_type": "code",
   "execution_count": 244,
   "id": "8853ac60",
   "metadata": {},
   "outputs": [
    {
     "data": {
      "text/html": [
       "<div>\n",
       "<style scoped>\n",
       "    .dataframe tbody tr th:only-of-type {\n",
       "        vertical-align: middle;\n",
       "    }\n",
       "\n",
       "    .dataframe tbody tr th {\n",
       "        vertical-align: top;\n",
       "    }\n",
       "\n",
       "    .dataframe thead th {\n",
       "        text-align: right;\n",
       "    }\n",
       "</style>\n",
       "<table border=\"1\" class=\"dataframe\">\n",
       "  <thead>\n",
       "    <tr style=\"text-align: right;\">\n",
       "      <th></th>\n",
       "      <th>ID</th>\n",
       "      <th>Ice Crem Sale (X)</th>\n",
       "      <th>Sunglasses Sold (Y)</th>\n",
       "    </tr>\n",
       "  </thead>\n",
       "  <tbody>\n",
       "    <tr>\n",
       "      <th>ID</th>\n",
       "      <td>1.000000</td>\n",
       "      <td>0.979811</td>\n",
       "      <td>0.942605</td>\n",
       "    </tr>\n",
       "    <tr>\n",
       "      <th>Ice Crem Sale (X)</th>\n",
       "      <td>0.979811</td>\n",
       "      <td>1.000000</td>\n",
       "      <td>0.970340</td>\n",
       "    </tr>\n",
       "    <tr>\n",
       "      <th>Sunglasses Sold (Y)</th>\n",
       "      <td>0.942605</td>\n",
       "      <td>0.970340</td>\n",
       "      <td>1.000000</td>\n",
       "    </tr>\n",
       "  </tbody>\n",
       "</table>\n",
       "</div>"
      ],
      "text/plain": [
       "                           ID  Ice Crem Sale (X)  Sunglasses Sold (Y)\n",
       "ID                   1.000000           0.979811             0.942605\n",
       "Ice Crem Sale (X)    0.979811           1.000000             0.970340\n",
       "Sunglasses Sold (Y)  0.942605           0.970340             1.000000"
      ]
     },
     "execution_count": 244,
     "metadata": {},
     "output_type": "execute_result"
    }
   ],
   "source": [
    "df3.corr()"
   ]
  },
  {
   "cell_type": "markdown",
   "id": "4418194e",
   "metadata": {},
   "source": [
    "#### Method 4"
   ]
  },
  {
   "cell_type": "code",
   "execution_count": 245,
   "id": "6e28d52c",
   "metadata": {},
   "outputs": [
    {
     "data": {
      "image/png": "[encoded data removed]",
      "text/plain": [
       "<Figure size 432x288 with 2 Axes>"
      ]
     },
     "metadata": {},
     "output_type": "display_data"
    }
   ],
   "source": [
    "sns.heatmap(df3.corr(),annot=True);"
   ]
  },
  {
   "cell_type": "markdown",
   "id": "4d3ccd08",
   "metadata": {},
   "source": [
    "#### Conclusion\n",
    "the Ice cream sales and Sanglasses sold are positive correlated, and the correlation coefficient is about 0.97.\n",
    "\n",
    "But positive correlation doesn't mean causation, a controlled study is usually the effective way to determine causation.\n",
    "\n",
    "In this case, the causation for both sales increase at same time is most likely the high temperature / hot weather."
   ]
  }
 ],
 "metadata": {
  "kernelspec": {
   "display_name": "Python 3",
   "language": "python",
   "name": "python3"
  },
  "language_info": {
   "codemirror_mode": {
    "name": "ipython",
    "version": 3
   },
   "file_extension": ".py",
   "mimetype": "text/x-python",
   "name": "python",
   "nbconvert_exporter": "python",
   "pygments_lexer": "ipython3",
   "version": "3.8.8"
  }
 },
 "nbformat": 4,
 "nbformat_minor": 5
}
