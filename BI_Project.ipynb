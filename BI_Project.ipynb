{
 "cells": [
  {
   "cell_type": "code",
   "execution_count": 6,
   "id": "c8d7cbb3",
   "metadata": {},
   "outputs": [
    {
     "name": "stdout",
     "output_type": "stream",
     "text": [
      "['Task 1', 'Task 1_cleaned', 'Task 2', 'Task 2_cleaned', 'Task 3', 'Task 3_cleaned']\n"
     ]
    }
   ],
   "source": [
    "import pandas as pd \n",
    "file = \"business-intelligence-project.xlsx\"\n",
    "data = pd.ExcelFile(file)\n",
    "print(data.sheet_names) #this returns the all the sheets in the excel file\n"
   ]
  },
  {
   "cell_type": "code",
   "execution_count": 9,
   "id": "d928a1e3",
   "metadata": {},
   "outputs": [
    {
     "name": "stdout",
     "output_type": "stream",
     "text": [
      "<class 'pandas.core.frame.DataFrame'>\n",
      "RangeIndex: 60 entries, 0 to 59\n",
      "Data columns (total 2 columns):\n",
      " #   Column       Non-Null Count  Dtype  \n",
      "---  ------       --------------  -----  \n",
      " 0   Employee ID  60 non-null     int64  \n",
      " 1   Sales        60 non-null     float64\n",
      "dtypes: float64(1), int64(1)\n",
      "memory usage: 1.1 KB\n"
     ]
    }
   ],
   "source": [
    "df = data.parse(\"Task 1_cleaned\")\n",
    "df.info()"
   ]
  },
  {
   "cell_type": "code",
   "execution_count": 11,
   "id": "b7ae0112",
   "metadata": {},
   "outputs": [
    {
     "data": {
      "text/html": [
       "<div>\n",
       "<style scoped>\n",
       "    .dataframe tbody tr th:only-of-type {\n",
       "        vertical-align: middle;\n",
       "    }\n",
       "\n",
       "    .dataframe tbody tr th {\n",
       "        vertical-align: top;\n",
       "    }\n",
       "\n",
       "    .dataframe thead th {\n",
       "        text-align: right;\n",
       "    }\n",
       "</style>\n",
       "<table border=\"1\" class=\"dataframe\">\n",
       "  <thead>\n",
       "    <tr style=\"text-align: right;\">\n",
       "      <th></th>\n",
       "      <th>Employee ID</th>\n",
       "      <th>Sales</th>\n",
       "    </tr>\n",
       "  </thead>\n",
       "  <tbody>\n",
       "    <tr>\n",
       "      <th>0</th>\n",
       "      <td>1001</td>\n",
       "      <td>482.660296</td>\n",
       "    </tr>\n",
       "    <tr>\n",
       "      <th>1</th>\n",
       "      <td>1002</td>\n",
       "      <td>3353.827431</td>\n",
       "    </tr>\n",
       "    <tr>\n",
       "      <th>2</th>\n",
       "      <td>1003</td>\n",
       "      <td>8716.268720</td>\n",
       "    </tr>\n",
       "    <tr>\n",
       "      <th>3</th>\n",
       "      <td>1004</td>\n",
       "      <td>5268.511955</td>\n",
       "    </tr>\n",
       "    <tr>\n",
       "      <th>4</th>\n",
       "      <td>1005</td>\n",
       "      <td>5272.372750</td>\n",
       "    </tr>\n",
       "    <tr>\n",
       "      <th>5</th>\n",
       "      <td>1006</td>\n",
       "      <td>4521.799891</td>\n",
       "    </tr>\n",
       "    <tr>\n",
       "      <th>6</th>\n",
       "      <td>1007</td>\n",
       "      <td>339.079381</td>\n",
       "    </tr>\n",
       "    <tr>\n",
       "      <th>7</th>\n",
       "      <td>1008</td>\n",
       "      <td>2498.285741</td>\n",
       "    </tr>\n",
       "    <tr>\n",
       "      <th>8</th>\n",
       "      <td>1009</td>\n",
       "      <td>4300.096754</td>\n",
       "    </tr>\n",
       "    <tr>\n",
       "      <th>9</th>\n",
       "      <td>1010</td>\n",
       "      <td>3531.549682</td>\n",
       "    </tr>\n",
       "  </tbody>\n",
       "</table>\n",
       "</div>"
      ],
      "text/plain": [
       "   Employee ID        Sales\n",
       "0         1001   482.660296\n",
       "1         1002  3353.827431\n",
       "2         1003  8716.268720\n",
       "3         1004  5268.511955\n",
       "4         1005  5272.372750\n",
       "5         1006  4521.799891\n",
       "6         1007   339.079381\n",
       "7         1008  2498.285741\n",
       "8         1009  4300.096754\n",
       "9         1010  3531.549682"
      ]
     },
     "execution_count": 11,
     "metadata": {},
     "output_type": "execute_result"
    }
   ],
   "source": [
    "df.head(10)"
   ]
  },
  {
   "cell_type": "code",
   "execution_count": 23,
   "id": "b85a6c7b",
   "metadata": {},
   "outputs": [
    {
     "name": "stdout",
     "output_type": "stream",
     "text": [
      "Mean is : 4444.581353167947\n",
      "Median is : 4290.390277792758\n",
      "Mode is : 482.6602960145865\n",
      "Maximum Value is : 9676.027108133301\n",
      "Minimum Value is : 338.6298319322356\n",
      "Standard Deviation is : 2689.999286261166\n"
     ]
    }
   ],
   "source": [
    "import statistics\n",
    "data_mean = statistics.mean(df.Sales)\n",
    "data_median = statistics.median(df.Sales)\n",
    "data_mode = statistics.mode(df.Sales)\n",
    "data_max = max(df.Sales)\n",
    "data_min = min(df.Sales)\n",
    "data_stdev = statistics.stdev(df.Sales)\n",
    "\n",
    "\n",
    "print (\"Mean is :\", data_mean)\n",
    "print (\"Median is :\", data_median)\n",
    "print (\"Mode is :\", data_mode)\n",
    "print (\"Maximum Value is :\", data_max)\n",
    "print (\"Minimum Value is :\", data_min)\n",
    "print (\"Standard Deviation is :\", data_stdev)"
   ]
  },
  {
   "cell_type": "code",
   "execution_count": null,
   "id": "5c20fb1a",
   "metadata": {},
   "outputs": [],
   "source": []
  }
 ],
 "metadata": {
  "kernelspec": {
   "display_name": "Python 3",
   "language": "python",
   "name": "python3"
  },
  "language_info": {
   "codemirror_mode": {
    "name": "ipython",
    "version": 3
   },
   "file_extension": ".py",
   "mimetype": "text/x-python",
   "name": "python",
   "nbconvert_exporter": "python",
   "pygments_lexer": "ipython3",
   "version": "3.8.8"
  }
 },
 "nbformat": 4,
 "nbformat_minor": 5
}
