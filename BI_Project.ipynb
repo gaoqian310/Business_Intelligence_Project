{
 "cells": [
  {
   "cell_type": "code",
   "execution_count": 88,
   "id": "dcdb7258",
   "metadata": {},
   "outputs": [
    {
     "name": "stdout",
     "output_type": "stream",
     "text": [
      "['Task 1', 'Task 1_cleaned', 'Task 2', 'Task 2_cleaned', 'Task 3', 'Task 3_cleaned']\n"
     ]
    }
   ],
   "source": [
    "import pandas as pd \n",
    "import statistics as st\n",
    "import matplotlib.pyplot as plt\n",
    "import seaborn as sns\n",
    "\n",
    "file = \"business-intelligence-project.xlsx\"\n",
    "data = pd.ExcelFile(file)\n",
    "print(data.sheet_names) #this returns the all the sheets in the excel file\n"
   ]
  },
  {
   "cell_type": "markdown",
   "id": "cdde4a3c",
   "metadata": {},
   "source": [
    "# Task 1"
   ]
  },
  {
   "cell_type": "code",
   "execution_count": 89,
   "id": "6e659f02",
   "metadata": {},
   "outputs": [
    {
     "name": "stdout",
     "output_type": "stream",
     "text": [
      "<class 'pandas.core.frame.DataFrame'>\n",
      "RangeIndex: 60 entries, 0 to 59\n",
      "Data columns (total 2 columns):\n",
      " #   Column       Non-Null Count  Dtype  \n",
      "---  ------       --------------  -----  \n",
      " 0   Employee ID  60 non-null     int64  \n",
      " 1   Sales        60 non-null     float64\n",
      "dtypes: float64(1), int64(1)\n",
      "memory usage: 1.1 KB\n"
     ]
    }
   ],
   "source": [
    "df = data.parse(\"Task 1_cleaned\")\n",
    "df.info()"
   ]
  },
  {
   "cell_type": "code",
   "execution_count": 90,
   "id": "ace2737f",
   "metadata": {},
   "outputs": [
    {
     "data": {
      "text/html": [
       "<div>\n",
       "<style scoped>\n",
       "    .dataframe tbody tr th:only-of-type {\n",
       "        vertical-align: middle;\n",
       "    }\n",
       "\n",
       "    .dataframe tbody tr th {\n",
       "        vertical-align: top;\n",
       "    }\n",
       "\n",
       "    .dataframe thead th {\n",
       "        text-align: right;\n",
       "    }\n",
       "</style>\n",
       "<table border=\"1\" class=\"dataframe\">\n",
       "  <thead>\n",
       "    <tr style=\"text-align: right;\">\n",
       "      <th></th>\n",
       "      <th>Employee ID</th>\n",
       "      <th>Sales</th>\n",
       "    </tr>\n",
       "  </thead>\n",
       "  <tbody>\n",
       "    <tr>\n",
       "      <th>0</th>\n",
       "      <td>1001</td>\n",
       "      <td>482.660296</td>\n",
       "    </tr>\n",
       "    <tr>\n",
       "      <th>1</th>\n",
       "      <td>1002</td>\n",
       "      <td>3353.827431</td>\n",
       "    </tr>\n",
       "    <tr>\n",
       "      <th>2</th>\n",
       "      <td>1003</td>\n",
       "      <td>8716.268720</td>\n",
       "    </tr>\n",
       "    <tr>\n",
       "      <th>3</th>\n",
       "      <td>1004</td>\n",
       "      <td>5268.511955</td>\n",
       "    </tr>\n",
       "    <tr>\n",
       "      <th>4</th>\n",
       "      <td>1005</td>\n",
       "      <td>5272.372750</td>\n",
       "    </tr>\n",
       "    <tr>\n",
       "      <th>5</th>\n",
       "      <td>1006</td>\n",
       "      <td>4521.799891</td>\n",
       "    </tr>\n",
       "    <tr>\n",
       "      <th>6</th>\n",
       "      <td>1007</td>\n",
       "      <td>339.079381</td>\n",
       "    </tr>\n",
       "    <tr>\n",
       "      <th>7</th>\n",
       "      <td>1008</td>\n",
       "      <td>2498.285741</td>\n",
       "    </tr>\n",
       "    <tr>\n",
       "      <th>8</th>\n",
       "      <td>1009</td>\n",
       "      <td>4300.096754</td>\n",
       "    </tr>\n",
       "    <tr>\n",
       "      <th>9</th>\n",
       "      <td>1010</td>\n",
       "      <td>3531.549682</td>\n",
       "    </tr>\n",
       "  </tbody>\n",
       "</table>\n",
       "</div>"
      ],
      "text/plain": [
       "   Employee ID        Sales\n",
       "0         1001   482.660296\n",
       "1         1002  3353.827431\n",
       "2         1003  8716.268720\n",
       "3         1004  5268.511955\n",
       "4         1005  5272.372750\n",
       "5         1006  4521.799891\n",
       "6         1007   339.079381\n",
       "7         1008  2498.285741\n",
       "8         1009  4300.096754\n",
       "9         1010  3531.549682"
      ]
     },
     "execution_count": 90,
     "metadata": {},
     "output_type": "execute_result"
    }
   ],
   "source": [
    "df.head(10)"
   ]
  },
  {
   "cell_type": "code",
   "execution_count": 91,
   "id": "b5bec9c7",
   "metadata": {},
   "outputs": [
    {
     "name": "stdout",
     "output_type": "stream",
     "text": [
      "Mean is : 4444.581353167947\n",
      "Median is : 4290.390277792758\n",
      "Mode is : 482.6602960145865\n",
      "Maximum Value is : 9676.027108133301\n",
      "Minimum Value is : 338.6298319322356\n",
      "Standard Deviation is : 2689.999286261166\n"
     ]
    }
   ],
   "source": [
    "data_mean = st.mean(df.Sales)\n",
    "data_median = st.median(df.Sales)\n",
    "data_mode = st.mode(df.Sales)\n",
    "data_max = max(df.Sales)\n",
    "data_min = min(df.Sales)\n",
    "data_stdev = st.stdev(df.Sales)\n",
    "\n",
    "\n",
    "print (\"Mean is :\", data_mean)\n",
    "print (\"Median is :\", data_median)\n",
    "print (\"Mode is :\", data_mode)\n",
    "print (\"Maximum Value is :\", data_max)\n",
    "print (\"Minimum Value is :\", data_min)\n",
    "print (\"Standard Deviation is :\", data_stdev)"
   ]
  },
  {
   "cell_type": "markdown",
   "id": "043d6fee",
   "metadata": {},
   "source": [
    "## Virtrualizaiton the distribution of the sales data"
   ]
  },
  {
   "cell_type": "code",
   "execution_count": 92,
   "id": "27d4a890",
   "metadata": {},
   "outputs": [
    {
     "data": {
      "image/png": "[encoded data removed]",
      "text/plain": [
       "<Figure size 1080x144 with 1 Axes>"
      ]
     },
     "metadata": {},
     "output_type": "display_data"
    }
   ],
   "source": [
    "\n",
    "\n",
    "sns.set_theme(style=\"whitegrid\")\n",
    "plt.figure (figsize=(15,2))\n",
    "\n",
    "ax = sns.boxplot(orient = \"h\", data=df.Sales)\n",
    "ax = sns.swarmplot(orient = \"h\",data=df.Sales, color=\".25\")\n"
   ]
  },
  {
   "cell_type": "code",
   "execution_count": 93,
   "id": "3dc3b5c6",
   "metadata": {},
   "outputs": [
    {
     "data": {
      "text/plain": [
       "<AxesSubplot:xlabel='Sales', ylabel='Density'>"
      ]
     },
     "execution_count": 93,
     "metadata": {},
     "output_type": "execute_result"
    },
    {
     "data": {
      "image/png": "[encoded data removed]",
      "text/plain": [
       "<Figure size 1080x432 with 1 Axes>"
      ]
     },
     "metadata": {},
     "output_type": "display_data"
    }
   ],
   "source": [
    "plt.figure (figsize=(15,6))\n",
    "sns.kdeplot(data=df.Sales)"
   ]
  },
  {
   "cell_type": "markdown",
   "id": "797c92b4",
   "metadata": {},
   "source": [
    "# Task 2"
   ]
  },
  {
   "cell_type": "code",
   "execution_count": 94,
   "id": "e5afb91f",
   "metadata": {},
   "outputs": [
    {
     "name": "stdout",
     "output_type": "stream",
     "text": [
      "<class 'pandas.core.frame.DataFrame'>\n",
      "RangeIndex: 30 entries, 0 to 29\n",
      "Data columns (total 3 columns):\n",
      " #   Column                               Non-Null Count  Dtype  \n",
      "---  ------                               --------------  -----  \n",
      " 0   Store Name                           30 non-null     object \n",
      " 1   Number of Customer Made a Purchased  30 non-null     float64\n",
      " 2   Total Number of Customer Visited     30 non-null     float64\n",
      "dtypes: float64(2), object(1)\n",
      "memory usage: 848.0+ bytes\n"
     ]
    }
   ],
   "source": [
    "df = data.parse(\"Task 2_cleaned\")\n",
    "df.info()"
   ]
  },
  {
   "cell_type": "code",
   "execution_count": 95,
   "id": "cfe05ac3",
   "metadata": {
    "scrolled": true
   },
   "outputs": [
    {
     "data": {
      "text/html": [
       "<div>\n",
       "<style scoped>\n",
       "    .dataframe tbody tr th:only-of-type {\n",
       "        vertical-align: middle;\n",
       "    }\n",
       "\n",
       "    .dataframe tbody tr th {\n",
       "        vertical-align: top;\n",
       "    }\n",
       "\n",
       "    .dataframe thead th {\n",
       "        text-align: right;\n",
       "    }\n",
       "</style>\n",
       "<table border=\"1\" class=\"dataframe\">\n",
       "  <thead>\n",
       "    <tr style=\"text-align: right;\">\n",
       "      <th></th>\n",
       "      <th>Store Name</th>\n",
       "      <th>Number of Customer Made a Purchased</th>\n",
       "      <th>Total Number of Customer Visited</th>\n",
       "    </tr>\n",
       "  </thead>\n",
       "  <tbody>\n",
       "    <tr>\n",
       "      <th>0</th>\n",
       "      <td>Store 1</td>\n",
       "      <td>800.000000</td>\n",
       "      <td>7460.773582</td>\n",
       "    </tr>\n",
       "    <tr>\n",
       "      <th>1</th>\n",
       "      <td>Store 2</td>\n",
       "      <td>650.000000</td>\n",
       "      <td>1951.818302</td>\n",
       "    </tr>\n",
       "    <tr>\n",
       "      <th>2</th>\n",
       "      <td>Store 3</td>\n",
       "      <td>544.000000</td>\n",
       "      <td>4377.379323</td>\n",
       "    </tr>\n",
       "    <tr>\n",
       "      <th>3</th>\n",
       "      <td>Store 4</td>\n",
       "      <td>825.194161</td>\n",
       "      <td>5501.294408</td>\n",
       "    </tr>\n",
       "    <tr>\n",
       "      <th>4</th>\n",
       "      <td>Store 5</td>\n",
       "      <td>157.186864</td>\n",
       "      <td>1209.129724</td>\n",
       "    </tr>\n",
       "  </tbody>\n",
       "</table>\n",
       "</div>"
      ],
      "text/plain": [
       "  Store Name  Number of Customer Made a Purchased  \\\n",
       "0    Store 1                           800.000000   \n",
       "1    Store 2                           650.000000   \n",
       "2    Store 3                           544.000000   \n",
       "3    Store 4                           825.194161   \n",
       "4    Store 5                           157.186864   \n",
       "\n",
       "   Total Number of Customer Visited  \n",
       "0                       7460.773582  \n",
       "1                       1951.818302  \n",
       "2                       4377.379323  \n",
       "3                       5501.294408  \n",
       "4                       1209.129724  "
      ]
     },
     "execution_count": 95,
     "metadata": {},
     "output_type": "execute_result"
    }
   ],
   "source": [
    "df.head()"
   ]
  },
  {
   "cell_type": "code",
   "execution_count": 97,
   "id": "80a7210c",
   "metadata": {},
   "outputs": [
    {
     "data": {
      "text/html": [
       "<div>\n",
       "<style scoped>\n",
       "    .dataframe tbody tr th:only-of-type {\n",
       "        vertical-align: middle;\n",
       "    }\n",
       "\n",
       "    .dataframe tbody tr th {\n",
       "        vertical-align: top;\n",
       "    }\n",
       "\n",
       "    .dataframe thead th {\n",
       "        text-align: right;\n",
       "    }\n",
       "</style>\n",
       "<table border=\"1\" class=\"dataframe\">\n",
       "  <thead>\n",
       "    <tr style=\"text-align: right;\">\n",
       "      <th></th>\n",
       "      <th>Store Name</th>\n",
       "      <th>Number of Customer Made a Purchased</th>\n",
       "      <th>Total Number of Customer Visited</th>\n",
       "      <th>Customer Conversion Rate</th>\n",
       "    </tr>\n",
       "  </thead>\n",
       "  <tbody>\n",
       "    <tr>\n",
       "      <th>0</th>\n",
       "      <td>Store 1</td>\n",
       "      <td>800.000000</td>\n",
       "      <td>7460.773582</td>\n",
       "      <td>0.107227</td>\n",
       "    </tr>\n",
       "    <tr>\n",
       "      <th>1</th>\n",
       "      <td>Store 2</td>\n",
       "      <td>650.000000</td>\n",
       "      <td>1951.818302</td>\n",
       "      <td>0.333023</td>\n",
       "    </tr>\n",
       "    <tr>\n",
       "      <th>2</th>\n",
       "      <td>Store 3</td>\n",
       "      <td>544.000000</td>\n",
       "      <td>4377.379323</td>\n",
       "      <td>0.124275</td>\n",
       "    </tr>\n",
       "    <tr>\n",
       "      <th>3</th>\n",
       "      <td>Store 4</td>\n",
       "      <td>825.194161</td>\n",
       "      <td>5501.294408</td>\n",
       "      <td>0.150000</td>\n",
       "    </tr>\n",
       "    <tr>\n",
       "      <th>4</th>\n",
       "      <td>Store 5</td>\n",
       "      <td>157.186864</td>\n",
       "      <td>1209.129724</td>\n",
       "      <td>0.130000</td>\n",
       "    </tr>\n",
       "  </tbody>\n",
       "</table>\n",
       "</div>"
      ],
      "text/plain": [
       "  Store Name  Number of Customer Made a Purchased  \\\n",
       "0    Store 1                           800.000000   \n",
       "1    Store 2                           650.000000   \n",
       "2    Store 3                           544.000000   \n",
       "3    Store 4                           825.194161   \n",
       "4    Store 5                           157.186864   \n",
       "\n",
       "   Total Number of Customer Visited  Customer Conversion Rate  \n",
       "0                       7460.773582                  0.107227  \n",
       "1                       1951.818302                  0.333023  \n",
       "2                       4377.379323                  0.124275  \n",
       "3                       5501.294408                  0.150000  \n",
       "4                       1209.129724                  0.130000  "
      ]
     },
     "execution_count": 97,
     "metadata": {},
     "output_type": "execute_result"
    }
   ],
   "source": [
    "df[\"Customer Conversion Rate\"] = df[\"Number of Customer Made a Purchased\"]/df[\"Total Number of Customer Visited\"]\n",
    "df.head()"
   ]
  },
  {
   "cell_type": "code",
   "execution_count": 100,
   "id": "85141abc",
   "metadata": {},
   "outputs": [
    {
     "name": "stdout",
     "output_type": "stream",
     "text": [
      "Mean is : 0.16816762024029097\n",
      "Median is : 0.1275\n",
      "Mode is : 0.18\n",
      "Range(max-min) is : 0.2867797876971312\n",
      "Standard Deviation is : 0.08102405976755989\n"
     ]
    }
   ],
   "source": [
    "data_mean = st.mean(df[\"Customer Conversion Rate\"])\n",
    "data_median = st.median(df[\"Customer Conversion Rate\"])\n",
    "data_mode = st.mode(df[\"Customer Conversion Rate\"])\n",
    "data_range = max(df[\"Customer Conversion Rate\"])-min(df[\"Customer Conversion Rate\"])\n",
    "data_stdev = st.stdev(df[\"Customer Conversion Rate\"])\n",
    "\n",
    "\n",
    "print (\"Mean is :\", data_mean)\n",
    "print (\"Median is :\", data_median)\n",
    "print (\"Mode is :\", data_mode)\n",
    "print (\"Range(max-min) is :\", data_range)\n",
    "print (\"Standard Deviation is :\", data_stdev)"
   ]
  },
  {
   "cell_type": "code",
   "execution_count": null,
   "id": "c739a057",
   "metadata": {},
   "outputs": [],
   "source": []
  }
 ],
 "metadata": {
  "kernelspec": {
   "display_name": "Python 3",
   "language": "python",
   "name": "python3"
  },
  "language_info": {
   "codemirror_mode": {
    "name": "ipython",
    "version": 3
   },
   "file_extension": ".py",
   "mimetype": "text/x-python",
   "name": "python",
   "nbconvert_exporter": "python",
   "pygments_lexer": "ipython3",
   "version": "3.8.8"
  }
 },
 "nbformat": 4,
 "nbformat_minor": 5
}
